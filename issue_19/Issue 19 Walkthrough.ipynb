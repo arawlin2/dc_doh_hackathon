{
 "cells": [
  {
   "cell_type": "markdown",
   "metadata": {},
   "source": [
    "# Estimating Amount of Closures (Issue 19)\n",
    "\n",
    "## Elliot Frank\n",
    "Issue #19 in https://github.com/jasonasher/dc_doh_hackathon/issues requires that we know which inspections resulted in a closure. It seems that this isn't a field that's accessible in the summary data, so instead we're attempting to estimate if a given inspection resulted in a closure.\n",
    "\n",
    "We're going to first do two estimates. First, we'll use the number of restorations as a proxy for the number of closures, because generally a restoration immediately follows a closure. Second, we'll look at each inspection to see if the word \"closure\" appears in the inspector's comments."
   ]
  },
  {
   "cell_type": "code",
   "execution_count": 339,
   "metadata": {
    "collapsed": false
   },
   "outputs": [],
   "source": [
    "# First load in data\n",
    "import csv\n",
    "import pandas as pd\n",
    "\n",
    "#data_16 = pd.read_csv('Basic_Business_License_in_2016.csv')\n",
    "inspections_geo = pd.read_csv('inspections_geocoded.csv')\n",
    "inspections_sum = pd.read_csv('potential_inspection_summary_data.csv',low_memory=False)\n",
    "violation_details= pd.read_csv('potential_violation_details_data.csv')\n",
    "inspections_sum = inspections_sum[inspections_sum['known_valid'] == True]\n",
    "inspections_sum.loc[:,'inspection_date'] = pd.to_datetime(inspections_sum.loc[:,'inspection_date'])\n"
   ]
  },
  {
   "cell_type": "markdown",
   "metadata": {},
   "source": [
    "# Estimate closures using \"restorations\" as a proxy"
   ]
  },
  {
   "cell_type": "code",
   "execution_count": 340,
   "metadata": {
    "collapsed": false,
    "scrolled": true
   },
   "outputs": [],
   "source": [
    "def process_inspection_type(x):\n",
    "    if isinstance(x,str):\n",
    "        x = x.lower()\n",
    "    elif x != x:\n",
    "        x = 'unknown'\n",
    "    else:\n",
    "        x = 'unknown'\n",
    "    return x\n",
    "\n",
    "def find_restoration(x):\n",
    "    if x.find('restor') > -1:\n",
    "        return True\n",
    "    else:\n",
    "        return False\n",
    "\n",
    "inspections_sum.loc[:,'inspection_type'] = inspections_sum['inspection_type'].apply(process_inspection_type)\n",
    "\n",
    "inspections_sum['restoration?'] = inspections_sum['inspection_type'].apply(find_restoration)\n",
    "\n"
   ]
  },
  {
   "cell_type": "markdown",
   "metadata": {},
   "source": [
    "Look at the different types of \"restorations\" we found with out search."
   ]
  },
  {
   "cell_type": "code",
   "execution_count": 341,
   "metadata": {
    "collapsed": false
   },
   "outputs": [
    {
     "name": "stdout",
     "output_type": "stream",
     "text": [
      "restoration                        758\n",
      "license restoration                 47\n",
      "flood restoration                    3\n",
      "fire restoration                     3\n",
      "restoratioin                         2\n",
      "restoration from6/8/17 closure.      1\n",
      "restoration/license renewal          1\n",
      "restoration, ownership               1\n",
      "restoraiton                          1\n",
      "restoration.                         1\n",
      "remodel restoration                  1\n",
      "rrestoration                         1\n",
      "renewal/restoration                  1\n",
      "restorations                         1\n",
      "Name: inspection_type, dtype: int64 \n",
      "\n",
      "size = 822\n"
     ]
    }
   ],
   "source": [
    "restorations = inspections_sum[inspections_sum['restoration?'] == True]\n",
    "print(restorations['inspection_type'].value_counts(),'\\n')\n",
    "print('size =',restorations['inspection_type'].size)"
   ]
  },
  {
   "cell_type": "markdown",
   "metadata": {},
   "source": [
    "# Estimating via Comments\n",
    "\n",
    "First we have to process the comments, so we make a Dataframew with just comments."
   ]
  },
  {
   "cell_type": "code",
   "execution_count": 342,
   "metadata": {
    "collapsed": false
   },
   "outputs": [],
   "source": [
    "def process_comments(x):\n",
    "    if isinstance(x,str):\n",
    "        x = x.lower()\n",
    "    else:\n",
    "        x = 'no comment'\n",
    "    return x\n",
    "\n",
    "def find_suspensions(x):\n",
    "    if x.find('suspension') > -1:\n",
    "        return True\n",
    "    elif x.find('closure') > -1:\n",
    "        return True\n",
    "    else:\n",
    "        return False\n",
    "    \n",
    "inspections_sum.loc[:,'inspector_comments'] = inspections_sum.loc[:,'inspector_comments'].apply(process_comments)\n",
    "inspections_sum['suspended?'] = inspections_sum.loc[:,'inspector_comments'].apply(find_suspensions)\n"
   ]
  },
  {
   "cell_type": "code",
   "execution_count": 343,
   "metadata": {
    "collapsed": false
   },
   "outputs": [
    {
     "name": "stdout",
     "output_type": "stream",
     "text": [
      "size = 938\n"
     ]
    }
   ],
   "source": [
    "suspensions = inspections_sum[inspections_sum['suspended?'] == True]\n",
    "print('size =',suspensions['inspection_type'].size)"
   ]
  },
  {
   "cell_type": "code",
   "execution_count": 344,
   "metadata": {
    "collapsed": true
   },
   "outputs": [
    {
     "name": "stdout",
     "output_type": "stream",
     "text": [
      "certified food manager came in before inspection was finish summary suspension in order for license to be restored, a reinspection fee of $100.00 dollar normal business hour or $400 non-business hour must be paid and all items must be corrected and approved by the doh . if you have any questions, please call area supervisor mr. ronnie taylor at 202-442-9037. \n",
      "\n",
      "license restored from suspension on february 2, 2012 exterminator was out to service business on 2/2/2012 smart h & a/c company was out to service hot water heater and garbage disposal. garbage disposal need a part order was placed delivery in 2 to 3 days. if you have any questions, please call area supervisor mr. ronnie taylor at 202-442-9037. \n",
      "\n",
      "summary suspension abated from inspection conducted on february 3, 2012. if you have any questions, please call area supervisor mr. ronnie taylor at 202-442-9037. contact dcra regarding license status. please fax renewed license to our office at 202-535-2180. \n",
      "\n",
      "summary suspension correct items and call area supervisor mr. taylor at 202-442-442-9037. there will be a 100 dollar reinspection fee that must be paid before inspection can be conducted. \n",
      "\n",
      "certified food manager - isata sumah-fa-50490-expires-1/19/15 license restored from closure on 9/12/2012 if you have any questions, please call area supervisor mr. taylor at 202-442-9037. \n",
      "\n",
      "notice of closure/summary suspension if you have any questions please call area supervisor mr. taylor at 202-4429037. \n",
      "\n",
      "summary suspension (all items must be abated and approved by doh, $100 re-inspection fee during normal business hours, and $400 during non-business hours must be paid prior to license restoration.)given to increase pest control measures for live roach activity. as cited on 02/24/2012 evidence of roaches was observed during follow-up inspection. per mr. taylor, the establishment was closed. if you have any questions, please contact mr. taylor at (202) 535-2180. \n",
      "\n",
      "cfpm: barka mbengue fs-46146 exp 12/16/3013. cease and desist operations. summary suspension (in order for license to  be restored, a re-inspection fee of $100.00 during  normal business hours or $400.00 after business hours must  be paid and all items must  be abated approved by doh. if you have  any  questions,please call the area supervisor jacqueline coleman on (202)442-5928. \n",
      "\n",
      "cfpm jian lian cao fs-51142 exp. 03/18/2015. a summary suspension was given due to evidence of rodent present in establishment. if you have any questions, please contact mr. taylor at (202) 535-2180. \n",
      "\n",
      "summary suspension (in order for license to be restored a re-inspection fee of $100 normal business hours, or $400 non-business hours must be paid and all items must be abated and approved by doh.) cfpm: not on duty if you have any questions, please contact area supervisor mr. ronnie taylor at (202)535-2180. \n",
      "\n",
      "cfpm; robin d deahl fs-51026 exp 03/16/2014. 7 day extension to repair garbage disposer. failure to comply may result in suspension of license for repeated ignorance of notice. \n",
      "\n",
      "all demerits abated from inspection closure of 06/05/12 license restored cfm present at call \n",
      "\n",
      "all demerits abated from inspection closure of 06/07/12 cfm present at call license restored \n",
      "\n",
      "summary suspension (in order for license to be restored all items must be correct and a reinspection fee of $100 business hours or $400 non business hours must be paid.) if you have any questions, please call area supervisor mr. ronnie taylor at 202-535-2180 \n",
      "\n",
      "summary suspension (in order for license to be restored, a re-inspection fee of $100 normal business hours or $400 non-business hours must be paid and all items must be abated and approval by the doh) correct all critical items stated correct all non-critical items stated if you have any questions, please contact the area supervisor mr. ronnie taylor at (202)442-9037 \n",
      "\n",
      "cfpm - jose coronado - #fs-44166 - expires 06/11/2013 summary suspension (in order for license to be restored, a re-inspection fee of $100 normal business hours or $400 non-business hours must be paid and all items must be abated (corrected) and approved by the doh. correct all critical and non-critical items stated if you have any questions, contact the area supervisor mr. ronnie taylor at (202) 442-9037 or call main number at (202) 535-2180. \n",
      "\n",
      "correct critical items stated within 5-days (09/24/12) correct non-critical items stated within 45-days (11/01/12) note: obtain a current/valid basic business (restaurant) license and a certified food protection manager certificate failure to comply may result in the suspension of the basic business license if you have any questions, please contact the area supervisor mr. ronnie taylor at (202)442-9037 \n",
      "\n",
      "a summary suspension was issued for this establishment crpm-nitin sharma fs-46120 exp-7/15/13 all listed items must be abated prior to re-inspection the fee to obtain a re-inspection is 100.00 dollars during normal business hours 9:00 am-4:00 pm 400.00 dollars evenings and weekends provided employee health information if you have any questions you may contact the area supervisor mr. taylor at 202-535-2180 \n",
      "\n",
      "establishment was issued a summary suspension for failure to minimize vermin and gross unsanitary conditions. all items must be abated prior to re-inspection the fee to obtain a re-inspection is 100.00 dollars during normal business hours and 400.00 dollars after 4:45 pm and weekends. report to 899 north capital street ne first floor to pay the fee 8:30am-4:00 pm if you have any questions you may contact the area supervisor mr. taylor at 202-535-2180 \n",
      "\n",
      "establishment was issued a summary suspension due to gross unsanitary conditions. in order to re-open for business establishment must report to the dc department of health pay a reinspection fee of 100.00 to be inspected during normal business hours of 8:30 am -4:30 pm. after hours fee is 400.00 dollars. all items listed must be corrected prior to establishment contacting the health department for a reinspection. if you have any quesitons you may contact mrs. coleman at 202-535-2180 \n",
      "\n",
      "summary suspension issued at call. restoration procedures issued for compliance re-inspection and approval to sell food to the public. if you have any questions, please feel free to contact program manager, mr. robert sudler at (202) 535-2180. \n",
      "\n",
      "certified food manager gebremeskel kahassai fs-50737-expires-2/20/2015 summary suspension  no hot water on premises. \n",
      "\n",
      "summary suspension (in order for license to be restored, $100 re-inspection fee must be paid for re-inspection during during normal business hours or $400 during non business hours and all items must be abated and approved by the doh). should you have any questions, please contact area supervisor mrs. jacqueline coleman at (202)442-5928 (main:202-535-2180). \n",
      "\n",
      "cfpm - hakeem bakeer - #fs-45363 - expires 10/12/2013 license restored items abated from inspection/closure conducted on 08/07/12 note: replace janitorial sink with one constructed of approved materials if you have any questions, please contact the area supervisor mr. ronnie taylor at (202) 442-9037 \n",
      "\n",
      "the temperature sensitive strip registered 170 degrees fahrenheit on a food-contact surface during the dishwash machine's final rinse cycle. summary suspension - cease & desist (contact the department of consumer and regulatory affairs regarding business license status.) if you have any questions, please call area supervisor, mr. ronnie taylor, at 202-442-9037. \n",
      "\n",
      "summary suspension issued at call. license not on site at call. \n",
      "\n",
      "certified food manager gebremeskel kahassai fs-50737-expires 2/20/2015. inspection was conducted on august 8, 2012 at that time the business was given a summary suspension because the business had no hot water and reinspection was conducted on august 9, 2012 and all violations had been correct with the exception of installing a spillage sink behind the bar. a 45 day notice was given. \n",
      "\n",
      "certified food manager esther mascoso fs-52430-expires 10/31/2014. summary suspension on august 1, 2012 has been abated license restored. \n",
      "\n",
      "summary suspension notice given on july 31, 2012 was abated on august 2, 2012 license restored. if you have any questions, please call area supervisor mr. taylor at 202-442-9037. 1-45 day notice pending. \n",
      "\n",
      "summary suspension (in order for license to be restored, a re-inspection fee of &100 normal business hours or $400 non-business hours must be paid and all items must be abated and approved by the doh) if you have any questions, please contact the area supervisor mr. ronnie taylor at (202) 442-9037 \n",
      "\n",
      "cfpm -ronald reid - prometric - expires 07/07/15 summary suspension still in effect (in order for license to be restored, a 2nd re-inspection fee of $100 normal business hours or $400 non-business hours must be paid and all pending items must be abated and approved by the doh) \n",
      "\n",
      "summary suspension (in order for license to be restored a $100 re-inspection fee must be paid for re-insepection during normal business hours, or $400 for re-inspection for re-inspection during non-business hours, and all items must be abated and approved by the doh). if you have any questions, please contact area supervisor mrs. jacqueline coleman at (202)442-5928 (main: 202-535-2180). \n",
      "\n",
      "summary closure. establishment must pay $100.00 to the health department for a reinspection. \n",
      "\n",
      "summary suspension (in order for license to be restored, a re-inspection fee of $100 normal business hours and $400 non-business hours must be paid and all items must be abated and approved by the doh) cfpm - mian sagib - #fs-451237 - expires 04/18/2015 if you have any questions, please contact the area supervisor ms. jacqueline coleman at (202) 442-5829 \n",
      "\n",
      "cfpm - merrick irving - attending course 5-day notice (critical items) abated from inspection conducted on 08/22/12 45-day notice (non-critical items) pending from inspection conducted on 08/22/12 note:establishment granted additional time to install handsink - obtained estimates from plumbers to install handsink in food preparation area all pending violations must be corrected by 10/09/12 the original 45-day notice correction date failure to comply will result in suspension of the basic business license if you have any questions, please contact the area supervisor mr. ronnie taylor at (202) 442-9037 \n",
      "\n",
      "cfpm #50950 pattarpong sebamonpimol exp. 11/29/2014 summary suspension issued at call. \n",
      "\n",
      "summary suspension (in order to have license restored a $100 re-inspection fee, for re-inspection during normal business hours, or $400 for re-insepcton during non-business hours must be paid and all items must be abated and and approved by the doh.) no cfpm on duty at time of inspection. if you have any questions, please contact area supervisor mrs. jacqueline coleman at (202)442-5928 (main:202-535-2180). \n",
      "\n",
      "summary suspension. you must pay$100.00 for a reinspection call mr. ronnie taylor at 202-442-9037 \n",
      "\n",
      "cfpm - davit mnatsakanyan - #fs-42285 - expires 12/16/2012 5-day notice pending from inspection conducted on 08/21/12 note: obtain dc cfpm certificate by 09/17/12 - failure to comply will result in the suspension of the basic business license. refer to handout provided to obtain dc cfpm certificate if you have any questions, please contact the area supervisor mr. ronnie taylor at (202) 442-9037 \n",
      "\n",
      "the employee health policy for the prevention of foodborne illness is on file and was reviewed. thermocouple in ice & water:  33 degrees fahrenheit the establishment must complete and provide a \"corrective plan-of-action for pest infestation violations.\"  i provided the establishment with a copy of the form. cease and desist operations immediately summary suspension (in order for the license to be restored, a re-inspection fee of $100 during normal business hours or $400 during nonbusinsess hours must be paid and all items must be abated and approved by the department of health.) if you have any questions, please call area supervisor, mr. ronnie taylor, at 202-442-9037. \n",
      "\n",
      "summary suspension (in order for license to be restored, $100 re-inspection fee during normal business hours, $400 non-business hours, must be paid and all items cited must be abated and approved by doh) if you have any quesitons, please contact area supervisor mrs. jacqueline coleman at (202)442-5928 (main: 202-535-2180). \n",
      "\n",
      "summary suspension (in order for license to be restored $100 re-inspection fee, during normal business hours, or $400 during non-business hours must be paid and all items must be abated and approved by doh in order for the business license to be restored. if you have any questions, please contact area supervisor mr. ronnie taylor at (202)535-2180. \n",
      "\n",
      "summary suspension (in order for license to be restored, $100 re-inspection fee during normal business hours, or $400 during non-business hours must be paid and all items must be abated and approved by the doh). cfpm: young jun cho (prometric exam date 4/22/10 - no dc cfpm available). if you have any questions, please contact area supervisor mrs. jacqueline coleman at (202)442-5928 (main: 202-535-2180) \n",
      "\n",
      "summary suspension (in order to have license restored a re-inspection fee of $100 during normal business hours, or $400 during non-business hours must be paid, and all items must be all items must be abated and approved by the doh). if you have any questions, please contact area supervisor mrs. jacqueline colemat at (202)442-5928 (main: 202-535-2180). \n",
      "\n",
      "summary suspension (in order for license to be restored, a re-inspection fee of $100, for inspection during normal business hours, or $400 during non-business hours must be paid and all items must be abated and approved by the doh). cfpm: erwin f. logan (47039) exp.2/26/14 if you have any questions, please contact area supervisor mrs. jacqueline coleman at (202)442-5928 (main: 202-535-2180). \n",
      "\n",
      "summary suspension (in order for license to be restored, a re-inspection fee of $100 normal business hours or $400 non-business hours must be paid and all items must be abated and approved by the doh). complaint generated: mice droppings observed by customer. cfpm: expired (no one with valid dc cfpm certificate is on duty) passed demonstration of knowledge. if you have any questions, please contact area supervisor mrs. jacqueline coleman at (202)442-5928 (main:202-535-2180). \n",
      "\n",
      "summary suspension (in order for license to be restored, are-inspection fee of $100 normal business hours or $400 non-busienss hours must be apid and all items must be abated and approved by the doh). cfpm: not on duty if you have any questions, please contact area supervisor mr. ronnie taylor at (202)535-2180. \n",
      "\n",
      "summary suspension (in order for license to be restored, a $100 re-inspection fee must be paid for inspection during normal business hours, or $400 for re-insepction during non-business hours and all items must be abated and approved by doh). if you have any questions, please contact area supervisor mrs. jacqueline coleman at (202)442-5928 (main: 202-535-2180). \n",
      "\n",
      "summary suspension (in order for license to be restored $100 re-inspecton fee during normal business hours or $400 for non-business hours and all items must be abated and approved by the doh). if you have any questions, please contact area supervisor mrs. jacqueline coleman at (202)442-5928 (main:202-535-2180 \n",
      "\n",
      "summary suspension (in order for license to be restored, a re-inspection fee of $100 normal business hours or $400 non-business hours must be paid and all items must be abated and approved by the doh). cfpm: lewis w. curtis (51581) 7/71/15 if you have any questions, please contact area supervisor mr. ronnie taylor at (202)442-9037 (main: 202-535-2180). \n",
      "\n"
     ]
    }
   ],
   "source": [
    "# Look at a few comments\n",
    "pd.options.display.max_colwidth = 500\n",
    "for row in suspensions.loc[:,'inspector_comments'][100:150]:\n",
    "    print(row , '\\n')"
   ]
  },
  {
   "cell_type": "markdown",
   "metadata": {},
   "source": [
    "## Some conclusions\n",
    "So in our dataset we got two estimates for the amount of closures: there were 822 according to the restoration method, and 938 according to the comments. \n",
    "\n",
    "However, when we read the comments, we notice that occasionally the inspector uses the term \"summary suspension\" within the course of saying that, for example, \"a summary suspension has been lifted\" – which might throw off our count.\n",
    "\n",
    "Now, to improve our estimate, we're going to try to integrate the two methods: first we'll do this in a basic way, by seeing how many addresses they have in common. Addresses aren't a perfect way to find distinct restaurants (for example, many restaurants point to a single address in L'Enfant plaza) but they're the best thing at the moment."
   ]
  },
  {
   "cell_type": "code",
   "execution_count": 379,
   "metadata": {
    "collapsed": false
   },
   "outputs": [
    {
     "name": "stdout",
     "output_type": "stream",
     "text": [
      "# distinct addresses in the restored estimate =  616\n",
      "# distinct addresses in the suspended estimate =  666\n",
      "# of addresses that appear in both =  553\n"
     ]
    }
   ],
   "source": [
    "restored_addresses = list(set(restorations.address))\n",
    "suspended_addresses = list(set(suspensions.address))\n",
    "\n",
    "def intersect(a, b):\n",
    "     return list(set(a) & set(b))\n",
    "\n",
    "print('# distinct addresses in the restored estimate = ',len(restored_addresses))\n",
    "print('# distinct addresses in the suspended estimate = ',len(suspended_addresses))\n",
    "print('# of addresses that appear in both = ',len(intersect(restored_addresses,suspended_addresses)))\n"
   ]
  },
  {
   "cell_type": "markdown",
   "metadata": {},
   "source": [
    "We can also look at if the yearly distributions of the two data sets are similar."
   ]
  },
  {
   "cell_type": "code",
   "execution_count": 380,
   "metadata": {
    "collapsed": false
   },
   "outputs": [
    {
     "name": "stdout",
     "output_type": "stream",
     "text": [
      "2010     15\n",
      "2011     38\n",
      "2012     52\n",
      "2013     69\n",
      "2014    181\n",
      "2015    175\n",
      "2016    171\n",
      "2017    121\n",
      "Name: inspection_date, dtype: int64 \n",
      "\n",
      "2010     24\n",
      "2011     54\n",
      "2012     71\n",
      "2013     76\n",
      "2014    213\n",
      "2015    193\n",
      "2016    169\n",
      "2017    138\n",
      "Name: inspection_date, dtype: int64 \n",
      "\n"
     ]
    }
   ],
   "source": [
    "print(restorations.inspection_date.apply(lambda x: x.year).value_counts().sort_index(),'\\n')\n",
    "print(suspensions.inspection_date.apply(lambda x: x.year).value_counts().sort_index(),'\\n')"
   ]
  },
  {
   "cell_type": "markdown",
   "metadata": {},
   "source": [
    "# To Do Next\n",
    "\n",
    "As we've seen, it's challenging to try to determine if a given inspection resulted in a closure. One idea is to find pairs of inspections on the same restaurant within a few weeks of each other. Generally, if an inspector closes a restaurant they will return in about a week to determine if the restaurant has complied with their recommendations and can be reopened. Roughly, we think the inspections in \"suspensions\" would correspond to the shutting-down inspection, and \"restorations\" would correspond to the re-opening inspection. \n",
    "\n",
    "Unfortunately, matching inspections in this way is difficult! We don't have a single list of all the inspections for each restaurant. This is another data challenge. "
   ]
  },
  {
   "cell_type": "code",
   "execution_count": null,
   "metadata": {
    "collapsed": true
   },
   "outputs": [],
   "source": []
  }
 ],
 "metadata": {
  "anaconda-cloud": {},
  "kernelspec": {
   "display_name": "Python [conda root]",
   "language": "python",
   "name": "conda-root-py"
  },
  "language_info": {
   "codemirror_mode": {
    "name": "ipython",
    "version": 3
   },
   "file_extension": ".py",
   "mimetype": "text/x-python",
   "name": "python",
   "nbconvert_exporter": "python",
   "pygments_lexer": "ipython3",
   "version": "3.5.2"
  }
 },
 "nbformat": 4,
 "nbformat_minor": 2
}
