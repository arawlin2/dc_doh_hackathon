{
 "cells": [
  {
   "cell_type": "code",
   "execution_count": 50,
   "metadata": {},
   "outputs": [],
   "source": [
    "import pandas as pd\n",
    "import numpy as np\n",
    "import glob\n",
    "import geopandas\n",
    "import geopandas.tools\n",
    "from shapely.geometry import Point\n",
    "import datetime as dt"
   ]
  },
  {
   "cell_type": "code",
   "execution_count": 35,
   "metadata": {},
   "outputs": [],
   "source": [
    "path = r'C:\\Study\\Hackathon\\2014-2016 311 Data' # use your path\n",
    "allFiles = glob.glob(path + \"/*.csv\")\n",
    "frame = pd.DataFrame()\n",
    "list_ = []\n",
    "for file_ in allFiles:\n",
    "    df = pd.read_csv(file_,index_col=None, header=0)\n",
    "    list_.append(df)\n",
    "frame = pd.concat(list_)"
   ]
  },
  {
   "cell_type": "code",
   "execution_count": 36,
   "metadata": {},
   "outputs": [
    {
     "data": {
      "text/plain": [
       "(1165419, 36)"
      ]
     },
     "execution_count": 36,
     "metadata": {},
     "output_type": "execute_result"
    }
   ],
   "source": [
    "frame.shape"
   ]
  },
  {
   "cell_type": "code",
   "execution_count": 37,
   "metadata": {},
   "outputs": [
    {
     "data": {
      "text/plain": [
       "['SERVICEREQUESTID',\n",
       " 'SERVICEPRIORITY',\n",
       " 'SERVICECODE',\n",
       " 'SERVICECODEDESCRIPTION',\n",
       " 'SERVICETYPECODE',\n",
       " 'SERVICETYPECODEDESCRIPTION',\n",
       " 'SERVICEORDERDATE',\n",
       " 'SERVICEORDERSTATUS',\n",
       " 'SERVICECALLCOUNT',\n",
       " 'AGENCYABBREVIATION',\n",
       " 'INSPECTIONFLAG',\n",
       " 'INSPECTIONDATE',\n",
       " 'RESOLUTION',\n",
       " 'RESOLUTIONDATE',\n",
       " 'SERVICEDUEDATE',\n",
       " 'SERVICENOTES',\n",
       " 'PARENTSERVICEREQUESTID',\n",
       " 'ADDDATE',\n",
       " 'LASTMODIFIEDDATE',\n",
       " 'SITEADDRESS',\n",
       " 'LATITUDE',\n",
       " 'LONGITUDE',\n",
       " 'ZIPCODE',\n",
       " 'MARADDRESSREPOSITORYID',\n",
       " 'DCSTATADDRESSKEY',\n",
       " 'DCSTATLOCATIONKEY',\n",
       " 'WARD',\n",
       " 'ANC',\n",
       " 'SMD',\n",
       " 'DISTRICT',\n",
       " 'PSA',\n",
       " 'NEIGHBORHOODCLUSTER',\n",
       " 'HOTSPOT2006NAME',\n",
       " 'HOTSPOT2005NAME',\n",
       " 'HOTSPOT2004NAME',\n",
       " 'SERVICESOURCECODE']"
      ]
     },
     "execution_count": 37,
     "metadata": {},
     "output_type": "execute_result"
    }
   ],
   "source": [
    "list(frame)"
   ]
  },
  {
   "cell_type": "code",
   "execution_count": 38,
   "metadata": {},
   "outputs": [],
   "source": [
    "frame_nonRodent = frame[frame['SERVICECODE'] != 'S0311']"
   ]
  },
  {
   "cell_type": "code",
   "execution_count": 39,
   "metadata": {},
   "outputs": [
    {
     "data": {
      "text/plain": [
       "(1157315, 36)"
      ]
     },
     "execution_count": 39,
     "metadata": {},
     "output_type": "execute_result"
    }
   ],
   "source": [
    "frame_nonRodent.shape"
   ]
  },
  {
   "cell_type": "code",
   "execution_count": 40,
   "metadata": {},
   "outputs": [
    {
     "data": {
      "text/plain": [
       "222700"
      ]
     },
     "execution_count": 40,
     "metadata": {},
     "output_type": "execute_result"
    }
   ],
   "source": [
    "frame_nonRodent['LATITUDE'].isnull().sum()"
   ]
  },
  {
   "cell_type": "code",
   "execution_count": 41,
   "metadata": {},
   "outputs": [
    {
     "data": {
      "text/plain": [
       "(934615, 36)"
      ]
     },
     "execution_count": 41,
     "metadata": {},
     "output_type": "execute_result"
    }
   ],
   "source": [
    "# Removing records with NULL values in lat-long - to get the census code block piece to run error-free\n",
    "frame_nonRodent = frame_nonRodent[np.isfinite(frame_nonRodent['LATITUDE']) & np.isfinite(frame_nonRodent['LONGITUDE']) ]\n",
    "frame_nonRodent.shape"
   ]
  },
  {
   "cell_type": "code",
   "execution_count": 42,
   "metadata": {},
   "outputs": [],
   "source": [
    "column_names = list(frame_nonRodent.columns.values)\n",
    " \n",
    "frame_nonRodent['geometry'] = frame_nonRodent.apply(lambda row: Point(row['LONGITUDE'],row['LATITUDE']), axis=1)\n",
    "frame_nonRodent = geopandas.GeoDataFrame(frame_nonRodent, geometry='geometry')\n",
    "frame_nonRodent.crs = {'init': 'epsg:4326'}\n",
    " \n",
    "census_blocks = geopandas.GeoDataFrame.from_file('dc_2010_block_shapefiles/tl_2016_11_tabblock10.shp')\n",
    "census_blocks.crs = {'init': 'epsg:4326'}\n",
    " \n",
    "# result = geopandas.tools.sjoin(frame_nonRodent, census_blocks[['BLOCKCE10', 'geometry']], how='inner')\n",
    "result = geopandas.tools.sjoin(frame_nonRodent[['geometry']], census_blocks[['BLOCKCE10', 'geometry']], how='left')\n",
    " \n",
    "frame_nonRodent['census_block'] = result['BLOCKCE10']\n",
    "frame_nonRodent = frame_nonRodent[column_names + ['census_block']]\n",
    " "
   ]
  },
  {
   "cell_type": "code",
   "execution_count": 55,
   "metadata": {},
   "outputs": [
    {
     "data": {
      "text/plain": [
       "['SERVICEREQUESTID',\n",
       " 'SERVICEPRIORITY',\n",
       " 'SERVICECODE',\n",
       " 'SERVICECODEDESCRIPTION',\n",
       " 'SERVICETYPECODE',\n",
       " 'SERVICETYPECODEDESCRIPTION',\n",
       " 'SERVICEORDERDATE',\n",
       " 'SERVICEORDERSTATUS',\n",
       " 'SERVICECALLCOUNT',\n",
       " 'AGENCYABBREVIATION',\n",
       " 'INSPECTIONFLAG',\n",
       " 'INSPECTIONDATE',\n",
       " 'RESOLUTION',\n",
       " 'RESOLUTIONDATE',\n",
       " 'SERVICEDUEDATE',\n",
       " 'SERVICENOTES',\n",
       " 'PARENTSERVICEREQUESTID',\n",
       " 'ADDDATE',\n",
       " 'LASTMODIFIEDDATE',\n",
       " 'SITEADDRESS',\n",
       " 'LATITUDE',\n",
       " 'LONGITUDE',\n",
       " 'ZIPCODE',\n",
       " 'MARADDRESSREPOSITORYID',\n",
       " 'DCSTATADDRESSKEY',\n",
       " 'DCSTATLOCATIONKEY',\n",
       " 'WARD',\n",
       " 'ANC',\n",
       " 'SMD',\n",
       " 'DISTRICT',\n",
       " 'PSA',\n",
       " 'NEIGHBORHOODCLUSTER',\n",
       " 'HOTSPOT2006NAME',\n",
       " 'HOTSPOT2005NAME',\n",
       " 'HOTSPOT2004NAME',\n",
       " 'SERVICESOURCECODE',\n",
       " 'census_block',\n",
       " 'year',\n",
       " 'week']"
      ]
     },
     "execution_count": 55,
     "metadata": {},
     "output_type": "execute_result"
    }
   ],
   "source": [
    "frame_nonRodent.shape\n",
    "list(frame_nonRodent)"
   ]
  },
  {
   "cell_type": "code",
   "execution_count": 86,
   "metadata": {},
   "outputs": [],
   "source": [
    "frame_nonRodent['SERVICEORDERDATE'] = pd.to_datetime(frame_nonRodent['SERVICEORDERDATE'])\n",
    "frame_nonRodent['year'] = frame_nonRodent['SERVICEORDERDATE'].dt.year\n",
    "frame_nonRodent['week'] = frame_nonRodent['SERVICEORDERDATE'].dt.week"
   ]
  },
  {
   "cell_type": "code",
   "execution_count": 61,
   "metadata": {
    "collapsed": true
   },
   "outputs": [],
   "source": [
    "df = frame_nonRodent.groupby(['SERVICECODE','census_block', 'year', 'week']).size().reset_index(name='value')"
   ]
  },
  {
   "cell_type": "code",
   "execution_count": 62,
   "metadata": {},
   "outputs": [
    {
     "data": {
      "text/plain": [
       "['SERVICECODE', 'census_block', 'year', 'week', 'value']"
      ]
     },
     "execution_count": 62,
     "metadata": {},
     "output_type": "execute_result"
    }
   ],
   "source": [
    "list(df)"
   ]
  },
  {
   "cell_type": "code",
   "execution_count": 66,
   "metadata": {},
   "outputs": [
    {
     "data": {
      "text/plain": [
       "(290900, 7)"
      ]
     },
     "execution_count": 66,
     "metadata": {},
     "output_type": "execute_result"
    }
   ],
   "source": [
    "df = df.rename(columns={'SERVICECODE': 'feature_type', 'census_block': 'census_block_2010'})\n",
    "df['feature_id'] = \"311_service_requests\"\n",
    "df['feature_subtype'] = \"\"\n",
    "df.shape"
   ]
  },
  {
   "cell_type": "code",
   "execution_count": 67,
   "metadata": {},
   "outputs": [
    {
     "data": {
      "text/plain": [
       "['feature_type',\n",
       " 'census_block_2010',\n",
       " 'year',\n",
       " 'week',\n",
       " 'value',\n",
       " 'feature_id',\n",
       " 'feature_subtype']"
      ]
     },
     "execution_count": 67,
     "metadata": {},
     "output_type": "execute_result"
    }
   ],
   "source": [
    "list(df)"
   ]
  },
  {
   "cell_type": "code",
   "execution_count": 69,
   "metadata": {},
   "outputs": [],
   "source": [
    "cols = ['feature_id', 'feature_type', 'feature_subtype', 'year', 'week','census_block_2010','value']\n",
    "df = df[cols]"
   ]
  },
  {
   "cell_type": "code",
   "execution_count": 70,
   "metadata": {},
   "outputs": [
    {
     "data": {
      "text/plain": [
       "['feature_id',\n",
       " 'feature_type',\n",
       " 'feature_subtype',\n",
       " 'year',\n",
       " 'week',\n",
       " 'census_block_2010',\n",
       " 'value']"
      ]
     },
     "execution_count": 70,
     "metadata": {},
     "output_type": "execute_result"
    }
   ],
   "source": [
    "list(df)"
   ]
  },
  {
   "cell_type": "code",
   "execution_count": 71,
   "metadata": {
    "collapsed": true
   },
   "outputs": [],
   "source": [
    "df.to_csv('DataIssue_8.csv', index=False)"
   ]
  },
  {
   "cell_type": "code",
   "execution_count": null,
   "metadata": {
    "collapsed": true
   },
   "outputs": [],
   "source": []
  }
 ],
 "metadata": {
  "kernelspec": {
   "display_name": "Python 2",
   "language": "python",
   "name": "python2"
  },
  "language_info": {
   "codemirror_mode": {
    "name": "ipython",
    "version": 2
   },
   "file_extension": ".py",
   "mimetype": "text/x-python",
   "name": "python",
   "nbconvert_exporter": "python",
   "pygments_lexer": "ipython2",
   "version": "2.7.13"
  }
 },
 "nbformat": 4,
 "nbformat_minor": 2
}
