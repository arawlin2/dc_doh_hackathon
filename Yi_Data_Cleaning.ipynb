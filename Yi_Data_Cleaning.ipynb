{
 "cells": [
  {
   "cell_type": "code",
   "execution_count": 73,
   "metadata": {
    "collapsed": true
   },
   "outputs": [],
   "source": [
    "import pandas as pd\n",
    "import numpy as np\n",
    "import seaborn as sns\n",
    "import matplotlib.pyplot as plt\n",
    "%matplotlib inline\n",
    "import re\n",
    "import warnings\n",
    "warnings.filterwarnings('ignore')"
   ]
  },
  {
   "cell_type": "code",
   "execution_count": 74,
   "metadata": {},
   "outputs": [],
   "source": [
    "ins_geo = pd.read_csv('DataSet/inspections_geocoded.csv')\n",
    "ins_sum = pd.read_csv('DataSet/potential_inspection_summary_data.csv')\n",
    "ins_vio = pd.read_csv('DataSet/potential_violation_details_data.csv')"
   ]
  },
  {
   "cell_type": "markdown",
   "metadata": {},
   "source": [
    "## Deal with Fake/Unknown Violation"
   ]
  },
  {
   "cell_type": "code",
   "execution_count": 13,
   "metadata": {},
   "outputs": [],
   "source": [
    "ins_info=pd.merge(ins_geo,ins_sum,on='inspection_id')\n",
    "vio_id=pd.unique(ins_vio.inspection_id)\n",
    "ins_info['violate']=[True if x in vio_id else False for x in ins_info.inspection_id]"
   ]
  },
  {
   "cell_type": "code",
   "execution_count": 20,
   "metadata": {},
   "outputs": [],
   "source": [
    "ins_info.inspection_date=ins_info.inspection_date.apply(lambda x: pd.to_datetime(x))\n",
    "ins_info.license_period_start=ins_info.license_period_start.apply(lambda x: pd.to_datetime(x))\n",
    "#ins_info.license_period_end=ins_info.license_period_end.apply(lambda x: pd.to_datetime(x))"
   ]
  },
  {
   "cell_type": "markdown",
   "metadata": {},
   "source": [
    "## Problem Within this Original DataSet:\n",
    "1. Data Entry problem in Inspection_Date/ License Period Start/ License_period_End\n",
    "    The Date is trace back to 19xx year, the end period of license is like 27xx/30xx year\n",
    "    ==> Solution we first Subset the Inspection Date within 2015,2016,2017. And we Get 31168(21276) total(known-valid) row data\n"
   ]
  },
  {
   "cell_type": "code",
   "execution_count": 42,
   "metadata": {
    "scrolled": true
   },
   "outputs": [],
   "source": [
    "info1=ins_info.loc[(ins_info.inspection_date>='2015-1-1') & (ins_info.inspection_date<='2018-1-1')]\n",
    "info1.inspection_date=info1.inspection_date.apply(lambda x: pd.to_datetime(x))\n",
    "info1.license_period_start=info1.license_period_start.apply(lambda x: pd.to_datetime(x))"
   ]
  },
  {
   "cell_type": "code",
   "execution_count": 72,
   "metadata": {},
   "outputs": [
    {
     "data": {
      "text/plain": [
       "64342    2005-08-31\n",
       "67831    2008-04-30\n",
       "67588    2008-04-30\n",
       "61346    2008-04-30\n",
       "60696    2008-04-30\n",
       "60990    2008-04-30\n",
       "37924    2009-06-30\n",
       "42496    2010-01-31\n",
       "43633    2010-01-31\n",
       "41932    2010-04-30\n",
       "57757    2010-05-31\n",
       "40386    2010-08-31\n",
       "38701    2010-09-30\n",
       "38244    2010-09-30\n",
       "40212    2010-09-30\n",
       "67387    2010-10-31\n",
       "39047    2010-11-30\n",
       "37954    2010-11-30\n",
       "37832    2010-11-30\n",
       "39705    2011-01-31\n",
       "59733    2011-02-28\n",
       "51196    2011-02-28\n",
       "39858    2011-02-28\n",
       "44413    2011-02-28\n",
       "42723    2011-04-15\n",
       "53942    2011-04-30\n",
       "54103    2011-04-30\n",
       "54610    2011-04-30\n",
       "66835    2011-04-30\n",
       "66371    2011-04-30\n",
       "            ...    \n",
       "64530    2020-11-30\n",
       "64902    2020-11-30\n",
       "68322    2020-11-30\n",
       "59888    2020-11-30\n",
       "67573    2021-06-21\n",
       "67055    2027-10-31\n",
       "50786    2027-10-31\n",
       "59613    2027-10-31\n",
       "67810    2027-10-31\n",
       "67803    2027-10-31\n",
       "55210    2064-11-30\n",
       "38568    2064-11-30\n",
       "51817    2064-11-30\n",
       "68354    2103-02-18\n",
       "53589    2103-02-18\n",
       "37397    2103-02-18\n",
       "57030    2106-09-15\n",
       "62879    2106-09-15\n",
       "57964    2106-09-15\n",
       "57280    2108-01-31\n",
       "56149    2108-01-31\n",
       "62478    2108-01-31\n",
       "55661    2108-01-31\n",
       "57201    2108-01-31\n",
       "55319    2914-05-31\n",
       "55943    2914-05-31\n",
       "55766    2914-05-31\n",
       "62374    2915-12-31\n",
       "59126    2915-12-31\n",
       "38964    2915-12-31\n",
       "Name: license_period_end, Length: 30287, dtype: object"
      ]
     },
     "execution_count": 72,
     "metadata": {},
     "output_type": "execute_result"
    }
   ],
   "source": [
    "info1.license_period_end.dropna().sort_values()"
   ]
  },
  {
   "cell_type": "code",
   "execution_count": 43,
   "metadata": {},
   "outputs": [
    {
     "name": "stdout",
     "output_type": "stream",
     "text": [
      "<class 'pandas.core.frame.DataFrame'>\n",
      "Int64Index: 31168 entries, 6200 to 68364\n",
      "Data columns (total 38 columns):\n",
      "inspection_id                                       31168 non-null int64\n",
      "latitude                                            31168 non-null float64\n",
      "longitude                                           31168 non-null float64\n",
      "establishment_name                                  31168 non-null object\n",
      "address                                             31168 non-null object\n",
      "telephone                                           29298 non-null object\n",
      "email                                               26532 non-null object\n",
      "inspection_date                                     31168 non-null datetime64[ns]\n",
      "inspection_time_in                                  31157 non-null object\n",
      "inspection_time_out                                 24889 non-null object\n",
      "license_holder                                      30808 non-null object\n",
      "license_number                                      27794 non-null object\n",
      "license_period_start                                30285 non-null datetime64[ns]\n",
      "license_period_end                                  30287 non-null object\n",
      "establishment_type                                  31168 non-null object\n",
      "risk_category                                       31129 non-null float64\n",
      "inspection_type                                     31091 non-null object\n",
      "total_violations                                    31168 non-null int64\n",
      "priority_violations                                 26185 non-null float64\n",
      "priority_violations_corrected_on_site               26185 non-null float64\n",
      "priority_violations_repeated                        26185 non-null float64\n",
      "priority_foundation_violations                      26185 non-null float64\n",
      "priority_foundation_violations_corrected_on_site    26185 non-null float64\n",
      "priority_foundation_violations_repeated             26185 non-null float64\n",
      "core_violations                                     26185 non-null float64\n",
      "core_violations_corrected_on_site                   26185 non-null float64\n",
      "core_violations_repeated                            26185 non-null float64\n",
      "critical_violations                                 4983 non-null float64\n",
      "critical_violations_corrected_on_site               4983 non-null float64\n",
      "critical_violations_repeated                        4983 non-null float64\n",
      "noncritical_violations                              4983 non-null float64\n",
      "noncritical_violations_corrected_on_site            4983 non-null float64\n",
      "noncritical_violations_repeated                     4983 non-null float64\n",
      "inspector_comments                                  29818 non-null object\n",
      "inspector_name                                      25382 non-null object\n",
      "inspector_badge_number                              31157 non-null object\n",
      "known_valid                                         31168 non-null bool\n",
      "violate                                             31168 non-null bool\n",
      "dtypes: bool(2), datetime64[ns](2), float64(18), int64(2), object(14)\n",
      "memory usage: 8.9+ MB\n"
     ]
    }
   ],
   "source": [
    "info1.info()"
   ]
  },
  {
   "cell_type": "code",
   "execution_count": 49,
   "metadata": {},
   "outputs": [],
   "source": [
    "info1[\"establishment_type\"]=info1.establishment_type.astype('category')\n",
    "info1['risk_category']=info1.risk_category.astype('category')\n",
    "info1['inspection_type']=info1.inspection_type.astype('category')"
   ]
  },
  {
   "cell_type": "code",
   "execution_count": 64,
   "metadata": {
    "collapsed": true
   },
   "outputs": [],
   "source": [
    "valid_info=info1[info1.known_valid==True]"
   ]
  },
  {
   "cell_type": "code",
   "execution_count": 67,
   "metadata": {
    "collapsed": true
   },
   "outputs": [],
   "source": [
    "valid_info.to_csv('DataSet/know_valid_inspection_records.csv')\n",
    "info1.to_csv('2015to2017_inspection_records.csv')"
   ]
  }
 ],
 "metadata": {
  "kernelspec": {
   "display_name": "Python 3",
   "language": "python",
   "name": "python3"
  },
  "language_info": {
   "codemirror_mode": {
    "name": "ipython",
    "version": 3
   },
   "file_extension": ".py",
   "mimetype": "text/x-python",
   "name": "python",
   "nbconvert_exporter": "python",
   "pygments_lexer": "ipython3",
   "version": "3.6.1"
  }
 },
 "nbformat": 4,
 "nbformat_minor": 2
}
